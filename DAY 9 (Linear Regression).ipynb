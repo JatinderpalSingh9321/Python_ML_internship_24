{
 "cells": [
  {
   "cell_type": "code",
   "execution_count": 1,
   "id": "d2ddf3d2",
   "metadata": {},
   "outputs": [],
   "source": [
    "import numpy as np\n",
    "import pandas as pd\n",
    "import matplotlib.pyplot as plt\n",
    "from sklearn.linear_model import LinearRegression as LR\n",
    "from sklearn.metrics import mean_squared_error,mean_absolute_error,r2_score"
   ]
  },
  {
   "cell_type": "markdown",
   "id": "57689e91",
   "metadata": {},
   "source": [
    "linear Regression\n",
    "\n",
    "Single class\n",
    "\n",
    "engine_size vs price\n",
    "\n",
    "plot the graph\n",
    "\n",
    "error find"
   ]
  },
  {
   "cell_type": "code",
   "execution_count": 2,
   "id": "608bad52",
   "metadata": {},
   "outputs": [],
   "source": [
    "np.random.seed(0)\n",
    "E_S = np.random.normal(4.0,0.5,100)\n",
    "Price= 1000+ E_S*1000 + np.random.normal(0,2000,100)"
   ]
  },
  {
   "cell_type": "code",
   "execution_count": 3,
   "id": "7915646d",
   "metadata": {},
   "outputs": [
    {
     "data": {
      "text/plain": [
       "array([4.88202617, 4.2000786 , 4.48936899, 5.1204466 , 4.933779  ,\n",
       "       3.51136106, 4.47504421, 3.9243214 , 3.94839057, 4.20529925,\n",
       "       4.07202179, 4.72713675, 4.38051886, 4.06083751, 4.22193162,\n",
       "       4.16683716, 4.74703954, 3.89742087, 4.15653385, 3.57295213,\n",
       "       2.72350509, 4.3268093 , 4.4322181 , 3.62891749, 5.13487731,\n",
       "       3.27281716, 4.02287926, 3.90640807, 4.76638961, 4.73467938,\n",
       "       4.07747371, 4.18908126, 3.55610713, 3.00960177, 3.82604393,\n",
       "       4.07817448, 4.61514534, 4.60118992, 3.80633659, 3.84884862,\n",
       "       3.47572352, 3.28999103, 3.1468649 , 4.9753877 , 3.74517391,\n",
       "       3.78096285, 3.37360232, 4.38874518, 3.19305108, 3.89362986,\n",
       "       3.55226672, 4.19345125, 3.74459743, 3.40968391, 3.98590889,\n",
       "       4.21416594, 4.03325861, 4.15123595, 3.68283895, 3.81862942,\n",
       "       3.66376978, 3.82022342, 3.59342686, 3.1368587 , 4.08871307,\n",
       "       3.79910953, 3.18490083, 4.23139113, 3.54635082, 4.0259727 ,\n",
       "       4.36454528, 4.06449146, 4.56970034, 3.38258709, 4.20117082,\n",
       "       3.65759495, 3.56460143, 3.71057517, 3.84422373, 4.02808267,\n",
       "       3.41742508, 4.45041324, 4.23283122, 3.23187816, 4.7441261 ,\n",
       "       4.94794459, 4.58938979, 3.91003758, 3.46462369, 4.52722586,\n",
       "       3.79841153, 4.61122254, 4.10413749, 4.48831952, 4.1781832 ,\n",
       "       4.35328658, 4.00525001, 4.89293525, 4.06345605, 4.20099468])"
      ]
     },
     "execution_count": 3,
     "metadata": {},
     "output_type": "execute_result"
    }
   ],
   "source": [
    "E_S"
   ]
  },
  {
   "cell_type": "code",
   "execution_count": 4,
   "id": "55482c00",
   "metadata": {},
   "outputs": [
    {
     "data": {
      "text/plain": [
       "array([9648.3275671 , 2504.5604819 , 2948.39899508, 8059.24001592,\n",
       "       3587.53218485, 8398.60343136, 4647.80624724, 3429.41177297,\n",
       "       8794.27462706, 8166.32883384, 8807.13970643, 7539.22607003,\n",
       "       3658.06749246, 8880.96741444, 4685.92487447, 6771.74995528,\n",
       "       7641.54347213, 4587.40068194, 6384.69259152, 6417.36547348,\n",
       "       4476.35615439, 3128.00771655, 6028.69444784, 7281.68928317,\n",
       "       4745.74159253, 3973.54808205, 4152.57215521, 8604.93553195,\n",
       "       7110.9791212 , 6549.60305743, 3537.64156396, 6267.57964238,\n",
       "       3207.44180487, 4073.26288244, 3554.35176858, 6431.04107444,\n",
       "       6768.32697359, 5184.59241324, 5598.35001662, 2662.72560725,\n",
       "       1493.20833206, 5168.77443394, 4480.21189543, 7245.4505714 ,\n",
       "       9511.46345885, 6669.92182318, 2547.95786909, 7622.77775411,\n",
       "       1561.2362552 , 3970.46065026, 4415.78350875, 8620.13669223,\n",
       "       3255.08778712, 2756.80683062, 4789.00383698, 3887.20936254,\n",
       "       7286.5304554 , 2991.37293214, 2387.90164834, 3942.98932752,\n",
       "       3667.70487473, 8679.28752686, 6492.26847283, 4311.9611816 ,\n",
       "       2637.84203347, 6487.8354847 , 2184.47013174, 2141.84893421,\n",
       "       6922.41040251, 5659.85792175, 7206.26292865, 5701.94676126,\n",
       "       7283.36156608, 3080.53590322, 3132.68513702, 6020.78399109,\n",
       "       2957.78209706, 3331.47561212, 3933.1587269 , 5063.04098916,\n",
       "       3709.4372571 , 2700.51065664, 3945.5944142 , -214.92814759,\n",
       "       6994.58899895, 2743.8292768 , 3380.62310672, 5014.36774062,\n",
       "       2985.49769646, 8613.25505428, 2212.69770707, 6145.32427389,\n",
       "       5025.57185258, 3152.13252276, 6224.73651965, 5010.19392165,\n",
       "       6548.83111279, 7539.94355488, 9389.92794491, 7874.0505806 ])"
      ]
     },
     "execution_count": 4,
     "metadata": {},
     "output_type": "execute_result"
    }
   ],
   "source": [
    "Price"
   ]
  },
  {
   "cell_type": "code",
   "execution_count": 5,
   "id": "83ff70cd",
   "metadata": {},
   "outputs": [
    {
     "data": {
      "text/html": [
       "<div>\n",
       "<style scoped>\n",
       "    .dataframe tbody tr th:only-of-type {\n",
       "        vertical-align: middle;\n",
       "    }\n",
       "\n",
       "    .dataframe tbody tr th {\n",
       "        vertical-align: top;\n",
       "    }\n",
       "\n",
       "    .dataframe thead th {\n",
       "        text-align: right;\n",
       "    }\n",
       "</style>\n",
       "<table border=\"1\" class=\"dataframe\">\n",
       "  <thead>\n",
       "    <tr style=\"text-align: right;\">\n",
       "      <th></th>\n",
       "      <th>Engine Size</th>\n",
       "      <th>Price</th>\n",
       "    </tr>\n",
       "  </thead>\n",
       "  <tbody>\n",
       "    <tr>\n",
       "      <th>0</th>\n",
       "      <td>4.882026</td>\n",
       "      <td>9648.327567</td>\n",
       "    </tr>\n",
       "    <tr>\n",
       "      <th>1</th>\n",
       "      <td>4.200079</td>\n",
       "      <td>2504.560482</td>\n",
       "    </tr>\n",
       "    <tr>\n",
       "      <th>2</th>\n",
       "      <td>4.489369</td>\n",
       "      <td>2948.398995</td>\n",
       "    </tr>\n",
       "    <tr>\n",
       "      <th>3</th>\n",
       "      <td>5.120447</td>\n",
       "      <td>8059.240016</td>\n",
       "    </tr>\n",
       "    <tr>\n",
       "      <th>4</th>\n",
       "      <td>4.933779</td>\n",
       "      <td>3587.532185</td>\n",
       "    </tr>\n",
       "    <tr>\n",
       "      <th>...</th>\n",
       "      <td>...</td>\n",
       "      <td>...</td>\n",
       "    </tr>\n",
       "    <tr>\n",
       "      <th>95</th>\n",
       "      <td>4.353287</td>\n",
       "      <td>5010.193922</td>\n",
       "    </tr>\n",
       "    <tr>\n",
       "      <th>96</th>\n",
       "      <td>4.005250</td>\n",
       "      <td>6548.831113</td>\n",
       "    </tr>\n",
       "    <tr>\n",
       "      <th>97</th>\n",
       "      <td>4.892935</td>\n",
       "      <td>7539.943555</td>\n",
       "    </tr>\n",
       "    <tr>\n",
       "      <th>98</th>\n",
       "      <td>4.063456</td>\n",
       "      <td>9389.927945</td>\n",
       "    </tr>\n",
       "    <tr>\n",
       "      <th>99</th>\n",
       "      <td>4.200995</td>\n",
       "      <td>7874.050581</td>\n",
       "    </tr>\n",
       "  </tbody>\n",
       "</table>\n",
       "<p>100 rows × 2 columns</p>\n",
       "</div>"
      ],
      "text/plain": [
       "    Engine Size        Price\n",
       "0      4.882026  9648.327567\n",
       "1      4.200079  2504.560482\n",
       "2      4.489369  2948.398995\n",
       "3      5.120447  8059.240016\n",
       "4      4.933779  3587.532185\n",
       "..          ...          ...\n",
       "95     4.353287  5010.193922\n",
       "96     4.005250  6548.831113\n",
       "97     4.892935  7539.943555\n",
       "98     4.063456  9389.927945\n",
       "99     4.200995  7874.050581\n",
       "\n",
       "[100 rows x 2 columns]"
      ]
     },
     "execution_count": 5,
     "metadata": {},
     "output_type": "execute_result"
    }
   ],
   "source": [
    "df = pd.DataFrame({\"Engine Size\":E_S,\"Price\":Price})\n",
    "df"
   ]
  },
  {
   "cell_type": "code",
   "execution_count": 6,
   "id": "b4c4e09e",
   "metadata": {},
   "outputs": [
    {
     "data": {
      "text/html": [
       "<div>\n",
       "<style scoped>\n",
       "    .dataframe tbody tr th:only-of-type {\n",
       "        vertical-align: middle;\n",
       "    }\n",
       "\n",
       "    .dataframe tbody tr th {\n",
       "        vertical-align: top;\n",
       "    }\n",
       "\n",
       "    .dataframe thead th {\n",
       "        text-align: right;\n",
       "    }\n",
       "</style>\n",
       "<table border=\"1\" class=\"dataframe\">\n",
       "  <thead>\n",
       "    <tr style=\"text-align: right;\">\n",
       "      <th></th>\n",
       "      <th>Engine Size</th>\n",
       "    </tr>\n",
       "  </thead>\n",
       "  <tbody>\n",
       "    <tr>\n",
       "      <th>0</th>\n",
       "      <td>4.882026</td>\n",
       "    </tr>\n",
       "    <tr>\n",
       "      <th>1</th>\n",
       "      <td>4.200079</td>\n",
       "    </tr>\n",
       "    <tr>\n",
       "      <th>2</th>\n",
       "      <td>4.489369</td>\n",
       "    </tr>\n",
       "    <tr>\n",
       "      <th>3</th>\n",
       "      <td>5.120447</td>\n",
       "    </tr>\n",
       "    <tr>\n",
       "      <th>4</th>\n",
       "      <td>4.933779</td>\n",
       "    </tr>\n",
       "    <tr>\n",
       "      <th>...</th>\n",
       "      <td>...</td>\n",
       "    </tr>\n",
       "    <tr>\n",
       "      <th>95</th>\n",
       "      <td>4.353287</td>\n",
       "    </tr>\n",
       "    <tr>\n",
       "      <th>96</th>\n",
       "      <td>4.005250</td>\n",
       "    </tr>\n",
       "    <tr>\n",
       "      <th>97</th>\n",
       "      <td>4.892935</td>\n",
       "    </tr>\n",
       "    <tr>\n",
       "      <th>98</th>\n",
       "      <td>4.063456</td>\n",
       "    </tr>\n",
       "    <tr>\n",
       "      <th>99</th>\n",
       "      <td>4.200995</td>\n",
       "    </tr>\n",
       "  </tbody>\n",
       "</table>\n",
       "<p>100 rows × 1 columns</p>\n",
       "</div>"
      ],
      "text/plain": [
       "    Engine Size\n",
       "0      4.882026\n",
       "1      4.200079\n",
       "2      4.489369\n",
       "3      5.120447\n",
       "4      4.933779\n",
       "..          ...\n",
       "95     4.353287\n",
       "96     4.005250\n",
       "97     4.892935\n",
       "98     4.063456\n",
       "99     4.200995\n",
       "\n",
       "[100 rows x 1 columns]"
      ]
     },
     "execution_count": 6,
     "metadata": {},
     "output_type": "execute_result"
    }
   ],
   "source": [
    "X=df[[\"Engine Size\"]]\n",
    "X"
   ]
  },
  {
   "cell_type": "code",
   "execution_count": 7,
   "id": "98bd7935",
   "metadata": {},
   "outputs": [
    {
     "data": {
      "text/plain": [
       "0     9648.327567\n",
       "1     2504.560482\n",
       "2     2948.398995\n",
       "3     8059.240016\n",
       "4     3587.532185\n",
       "         ...     \n",
       "95    5010.193922\n",
       "96    6548.831113\n",
       "97    7539.943555\n",
       "98    9389.927945\n",
       "99    7874.050581\n",
       "Name: Price, Length: 100, dtype: float64"
      ]
     },
     "execution_count": 7,
     "metadata": {},
     "output_type": "execute_result"
    }
   ],
   "source": [
    "Y=df[\"Price\"]\n",
    "Y"
   ]
  },
  {
   "cell_type": "code",
   "execution_count": 8,
   "id": "6035326d",
   "metadata": {},
   "outputs": [
    {
     "data": {
      "text/plain": [
       "LinearRegression()"
      ]
     },
     "execution_count": 8,
     "metadata": {},
     "output_type": "execute_result"
    }
   ],
   "source": [
    "model = LR()\n",
    "model.fit(X,Y)"
   ]
  },
  {
   "cell_type": "code",
   "execution_count": 9,
   "id": "5fd1045e",
   "metadata": {},
   "outputs": [],
   "source": [
    "y=model.predict(X)"
   ]
  },
  {
   "cell_type": "code",
   "execution_count": 10,
   "id": "0bc15a0f",
   "metadata": {},
   "outputs": [
    {
     "data": {
      "text/plain": [
       "array([6437.00042464, 5442.17958423, 5864.19458942, 6784.80664909,\n",
       "       6512.49711723, 4437.48274624, 5843.29768531, 5039.90669656,\n",
       "       5075.01866298, 5449.79543105, 5255.37109963, 6211.04870998,\n",
       "       5705.40470257, 5239.05554594, 5474.05862149, 5393.68717912,\n",
       "       6240.08276526, 5000.66437526, 5378.65677088, 4527.33141366,\n",
       "       3288.16339672, 5627.05352589, 5780.82322535, 4608.97332935,\n",
       "       6805.85808191, 4089.49640345, 5183.68228927, 5013.77485633,\n",
       "       6268.310527  , 6222.05185351, 5263.32433697, 5426.13672715,\n",
       "       4502.75802713, 3705.51943183, 4896.54013836, 5264.34661834,\n",
       "       6047.67633824, 6027.31826486, 4867.79120295, 4929.80749092,\n",
       "       4385.4949224 , 4114.54953551, 3905.75803865, 6573.19563179,\n",
       "       4778.56746543, 4830.77614696, 4236.52115938, 5717.40519984,\n",
       "       3973.13413629, 4995.13407621, 4497.15566578, 5432.51163991,\n",
       "       4777.72650307, 4289.15675382, 5129.75014105, 5462.73009455,\n",
       "       5198.82362372, 5370.9282247 , 4687.63362225, 4885.72390007,\n",
       "       4659.81562625, 4888.04922052, 4557.19981949, 3891.16104825,\n",
       "       5279.72024241, 4857.24841398, 3961.24460309, 5487.85809743,\n",
       "       4488.52558561, 5188.19497906, 5682.10254198, 5244.38590112,\n",
       "       5981.38145977, 4249.62808533, 5443.77290268, 4650.80783522,\n",
       "       4515.14945762, 4728.09503811, 4923.06072924, 5191.27299477,\n",
       "       4300.44952654, 5807.36618748, 5489.95889477, 4029.77483824,\n",
       "       6235.8326577 , 6533.16179546, 6010.1042963 , 5019.06955855,\n",
       "       4369.30256254, 5919.41995623, 4856.2301681 , 6041.95377463,\n",
       "       5302.22128661, 5862.6636236 , 5410.23870374, 5665.67842536,\n",
       "       5157.96485232, 6452.91451339, 5242.87545292, 5443.51595241])"
      ]
     },
     "execution_count": 10,
     "metadata": {},
     "output_type": "execute_result"
    }
   ],
   "source": [
    "y"
   ]
  },
  {
   "cell_type": "code",
   "execution_count": 11,
   "id": "c403d34a",
   "metadata": {},
   "outputs": [],
   "source": [
    "MSE=mean_squared_error(Y,y)\n",
    "MAE=mean_absolute_error(Y,y)\n",
    "R2=r2_score(Y,y)"
   ]
  },
  {
   "cell_type": "code",
   "execution_count": 12,
   "id": "f113c3f3",
   "metadata": {},
   "outputs": [
    {
     "data": {
      "text/plain": [
       "4228687.416762515"
      ]
     },
     "execution_count": 12,
     "metadata": {},
     "output_type": "execute_result"
    }
   ],
   "source": [
    "MSE"
   ]
  },
  {
   "cell_type": "code",
   "execution_count": 13,
   "id": "c8644ec5",
   "metadata": {},
   "outputs": [
    {
     "data": {
      "text/plain": [
       "1731.8782770093544"
      ]
     },
     "execution_count": 13,
     "metadata": {},
     "output_type": "execute_result"
    }
   ],
   "source": [
    "MAE"
   ]
  },
  {
   "cell_type": "code",
   "execution_count": 14,
   "id": "c16cfd92",
   "metadata": {},
   "outputs": [
    {
     "data": {
      "text/plain": [
       "0.11332049502886776"
      ]
     },
     "execution_count": 14,
     "metadata": {},
     "output_type": "execute_result"
    }
   ],
   "source": [
    "R2"
   ]
  },
  {
   "cell_type": "code",
   "execution_count": 15,
   "id": "8280ef41",
   "metadata": {},
   "outputs": [
    {
     "name": "stdout",
     "output_type": "stream",
     "text": [
      "Mean Squared Error= 4228687.416762515 \n",
      "Mean Absolute Error= 1731.8782770093544 \n",
      "R2 Score= 0.11332049502886776\n"
     ]
    }
   ],
   "source": [
    "print(f\"Mean Squared Error= {MSE} \\nMean Absolute Error= {MAE} \\nR2 Score= {R2}\")"
   ]
  },
  {
   "cell_type": "code",
   "execution_count": 16,
   "id": "1a3eb77d",
   "metadata": {},
   "outputs": [
    {
     "data": {
      "image/png": "[encoded data removed]",
      "text/plain": [
       "<Figure size 720x360 with 1 Axes>"
      ]
     },
     "metadata": {
      "needs_background": "light"
     },
     "output_type": "display_data"
    }
   ],
   "source": [
    "plt.figure(figsize=(10,5))\n",
    "plt.scatter(X,Y,color='blue', label=\"Actual Data\")\n",
    "plt.plot(X[\"Engine Size\"],y,color='red', label=\"Predicted Data\")\n",
    "\n",
    "plt.xlabel(\"Engine size\")\n",
    "plt.ylabel(\"Price\")\n",
    "plt.title(\"Linear Regression\")\n",
    "plt.legend()\n",
    "plt.show()"
   ]
  },
  {
   "cell_type": "markdown",
   "id": "b11a56c4",
   "metadata": {},
   "source": [
    "Multiple Linear Regression"
   ]
  },
  {
   "cell_type": "code",
   "execution_count": 17,
   "id": "b7181f2a",
   "metadata": {},
   "outputs": [],
   "source": [
    "from mpl_toolkits.mplot3d import Axes3D"
   ]
  },
  {
   "cell_type": "code",
   "execution_count": 18,
   "id": "f8c15841",
   "metadata": {},
   "outputs": [],
   "source": [
    "np.random.seed(0)\n",
    "E_s =np.random.normal(3.0,0.5,100)\n",
    "W_b =np.random.normal(2.0,0.5,100)\n",
    "amt=1000+ E_s*1000 + np.random.normal(0,2000,100)"
   ]
  },
  {
   "cell_type": "code",
   "execution_count": 19,
   "id": "895a34d5",
   "metadata": {},
   "outputs": [
    {
     "name": "stdout",
     "output_type": "stream",
     "text": [
      "[3.88202617 3.2000786  3.48936899 4.1204466  3.933779   2.51136106\n",
      " 3.47504421 2.9243214  2.94839057 3.20529925 3.07202179 3.72713675\n",
      " 3.38051886 3.06083751 3.22193162 3.16683716 3.74703954 2.89742087\n",
      " 3.15653385 2.57295213 1.72350509 3.3268093  3.4322181  2.62891749\n",
      " 4.13487731 2.27281716 3.02287926 2.90640807 3.76638961 3.73467938\n",
      " 3.07747371 3.18908126 2.55610713 2.00960177 2.82604393 3.07817448\n",
      " 3.61514534 3.60118992 2.80633659 2.84884862 2.47572352 2.28999103\n",
      " 2.1468649  3.9753877  2.74517391 2.78096285 2.37360232 3.38874518\n",
      " 2.19305108 2.89362986 2.55226672 3.19345125 2.74459743 2.40968391\n",
      " 2.98590889 3.21416594 3.03325861 3.15123595 2.68283895 2.81862942\n",
      " 2.66376978 2.82022342 2.59342686 2.1368587  3.08871307 2.79910953\n",
      " 2.18490083 3.23139113 2.54635082 3.0259727  3.36454528 3.06449146\n",
      " 3.56970034 2.38258709 3.20117082 2.65759495 2.56460143 2.71057517\n",
      " 2.84422373 3.02808267 2.41742508 3.45041324 3.23283122 2.23187816\n",
      " 3.7441261  3.94794459 3.58938979 2.91003758 2.46462369 3.52722586\n",
      " 2.79841153 3.61122254 3.10413749 3.48831952 3.1781832  3.35328658\n",
      " 3.00525001 3.89293525 3.06345605 3.20099468]\n",
      "[2.94157535 1.32612047 1.3647575  2.48469835 1.4134383  2.97181059\n",
      " 1.79319051 1.62627259 2.96147101 2.7402574  2.93377948 2.45302233\n",
      " 1.56938716 2.95503248 1.86599831 2.4012282  2.47362598 1.92249495\n",
      " 2.30703969 2.46110334 2.18821277 1.4502996  2.14911909 2.66319295\n",
      " 1.65271607 1.92518273 1.78242322 2.92463186 2.33614738 2.20373092\n",
      " 1.61504196 2.2696246  1.66283367 2.01591528 1.68207696 2.33821665\n",
      " 2.28829541 1.89585062 2.19800336 1.45346925 1.2543712  2.21969585\n",
      " 2.08333675 2.31751572 3.19157239 2.47223974 1.54358889 2.55850814\n",
      " 1.34204629 1.7692077  1.9658792  2.85667136 1.62762259 1.58678073\n",
      " 1.95077374 1.66826086 2.56331796 1.46003425 1.42626567 1.78108998\n",
      " 1.75098377 2.96476603 2.4747104  2.04377562 1.38728224 2.42218149\n",
      " 1.49989233 1.22761445 2.5940149  2.15847131 2.46042941 2.15936383\n",
      " 2.42841531 1.6744872  1.48287858 2.34079726 1.59829517 1.65522511\n",
      " 1.77223375 2.00873958 1.82300304 1.31252435 1.6781908  0.88829842\n",
      " 2.31261573 1.19897117 1.44780833 2.02608254 1.6302185  2.7715073\n",
      " 1.35357155 2.13352543 1.98035859 1.41595325 2.26163833 1.91422683\n",
      " 2.38589528 2.41175208 3.08161797 2.66826397]\n",
      "[ 4143.6624971   3721.32024903  6688.68818383  6430.97406105\n",
      "  6214.04204727   277.44897144  4426.39195996  2448.25957744\n",
      "  4508.23977219  4008.99847168  5892.37960177  5361.57318386\n",
      "  5953.17478679  3127.99931477  2333.03910454  3346.73777728\n",
      "  4712.99870886  4655.72433923  8675.15175221  3488.43782703\n",
      "   811.6150911   3634.84574632  3505.02615014  4591.88043734\n",
      "  2053.2832831   3399.3411511   4335.89233458  4370.77014739\n",
      "  3571.75746925  4258.83592548  1229.35189488  3202.44149308\n",
      "  2470.38417415  3841.70185841  1513.67906169  5640.57068797\n",
      "  7604.11442935   461.21987437  4658.85405285  5202.66469477\n",
      "  2200.84946636  2495.44740275  2881.10374951  4379.80593881\n",
      "  3127.14797103   428.95523653  5678.26544954  6547.98236199\n",
      "  1566.32255781   960.78120429  4594.39647231  3041.8753093\n",
      "  4028.50375786  2771.02707365  5368.98638797  5603.66422258\n",
      "  2582.06385426  1384.50803808   516.96215849  5039.38817522\n",
      "  1286.05126054  2806.59071063  2400.79878208  3031.7241063\n",
      "   216.15345943  4176.66672548  4232.68287419  4408.23530185\n",
      "  2924.57847441  4220.77303044  5162.63797237 -1480.69405747\n",
      "  8481.52495877  4162.7737352   2896.35365581  2875.68820415\n",
      "  4552.08498011  3478.36728955  -217.14520163  8157.06839383\n",
      "  3196.34376514  6490.75866691  2848.7315243   6304.63226535\n",
      "  5316.81347468  6165.63225697  2498.88305329  6332.32816146\n",
      "  4844.26001831  7130.9183226   2542.23640723  3649.16829827\n",
      "  8711.97088441  2368.2878728   3906.28379723  6627.0693093\n",
      "  4200.69994579  6058.84260646  3264.55798783  4941.10645742]\n"
     ]
    }
   ],
   "source": [
    "print(E_s)\n",
    "print(W_b)\n",
    "print(amt)"
   ]
  },
  {
   "cell_type": "code",
   "execution_count": 20,
   "id": "045a39c2",
   "metadata": {},
   "outputs": [
    {
     "data": {
      "text/html": [
       "<div>\n",
       "<style scoped>\n",
       "    .dataframe tbody tr th:only-of-type {\n",
       "        vertical-align: middle;\n",
       "    }\n",
       "\n",
       "    .dataframe tbody tr th {\n",
       "        vertical-align: top;\n",
       "    }\n",
       "\n",
       "    .dataframe thead th {\n",
       "        text-align: right;\n",
       "    }\n",
       "</style>\n",
       "<table border=\"1\" class=\"dataframe\">\n",
       "  <thead>\n",
       "    <tr style=\"text-align: right;\">\n",
       "      <th></th>\n",
       "      <th>Engine Size</th>\n",
       "      <th>Wheel Base</th>\n",
       "      <th>Amount</th>\n",
       "    </tr>\n",
       "  </thead>\n",
       "  <tbody>\n",
       "    <tr>\n",
       "      <th>0</th>\n",
       "      <td>3.882026</td>\n",
       "      <td>2.941575</td>\n",
       "      <td>4143.662497</td>\n",
       "    </tr>\n",
       "    <tr>\n",
       "      <th>1</th>\n",
       "      <td>3.200079</td>\n",
       "      <td>1.326120</td>\n",
       "      <td>3721.320249</td>\n",
       "    </tr>\n",
       "    <tr>\n",
       "      <th>2</th>\n",
       "      <td>3.489369</td>\n",
       "      <td>1.364758</td>\n",
       "      <td>6688.688184</td>\n",
       "    </tr>\n",
       "    <tr>\n",
       "      <th>3</th>\n",
       "      <td>4.120447</td>\n",
       "      <td>2.484698</td>\n",
       "      <td>6430.974061</td>\n",
       "    </tr>\n",
       "    <tr>\n",
       "      <th>4</th>\n",
       "      <td>3.933779</td>\n",
       "      <td>1.413438</td>\n",
       "      <td>6214.042047</td>\n",
       "    </tr>\n",
       "    <tr>\n",
       "      <th>...</th>\n",
       "      <td>...</td>\n",
       "      <td>...</td>\n",
       "      <td>...</td>\n",
       "    </tr>\n",
       "    <tr>\n",
       "      <th>95</th>\n",
       "      <td>3.353287</td>\n",
       "      <td>1.914227</td>\n",
       "      <td>6627.069309</td>\n",
       "    </tr>\n",
       "    <tr>\n",
       "      <th>96</th>\n",
       "      <td>3.005250</td>\n",
       "      <td>2.385895</td>\n",
       "      <td>4200.699946</td>\n",
       "    </tr>\n",
       "    <tr>\n",
       "      <th>97</th>\n",
       "      <td>3.892935</td>\n",
       "      <td>2.411752</td>\n",
       "      <td>6058.842606</td>\n",
       "    </tr>\n",
       "    <tr>\n",
       "      <th>98</th>\n",
       "      <td>3.063456</td>\n",
       "      <td>3.081618</td>\n",
       "      <td>3264.557988</td>\n",
       "    </tr>\n",
       "    <tr>\n",
       "      <th>99</th>\n",
       "      <td>3.200995</td>\n",
       "      <td>2.668264</td>\n",
       "      <td>4941.106457</td>\n",
       "    </tr>\n",
       "  </tbody>\n",
       "</table>\n",
       "<p>100 rows × 3 columns</p>\n",
       "</div>"
      ],
      "text/plain": [
       "    Engine Size  Wheel Base       Amount\n",
       "0      3.882026    2.941575  4143.662497\n",
       "1      3.200079    1.326120  3721.320249\n",
       "2      3.489369    1.364758  6688.688184\n",
       "3      4.120447    2.484698  6430.974061\n",
       "4      3.933779    1.413438  6214.042047\n",
       "..          ...         ...          ...\n",
       "95     3.353287    1.914227  6627.069309\n",
       "96     3.005250    2.385895  4200.699946\n",
       "97     3.892935    2.411752  6058.842606\n",
       "98     3.063456    3.081618  3264.557988\n",
       "99     3.200995    2.668264  4941.106457\n",
       "\n",
       "[100 rows x 3 columns]"
      ]
     },
     "execution_count": 20,
     "metadata": {},
     "output_type": "execute_result"
    }
   ],
   "source": [
    "df2=pd.DataFrame({\"Engine Size\":E_s, \"Wheel Base\":W_b, \"Amount\":amt})\n",
    "df2"
   ]
  },
  {
   "cell_type": "code",
   "execution_count": 21,
   "id": "07e87950",
   "metadata": {},
   "outputs": [],
   "source": [
    "X1=df2[[\"Engine Size\", \"Wheel Base\"]]\n",
    "Y1=df2[[\"Amount\"]]"
   ]
  },
  {
   "cell_type": "code",
   "execution_count": 22,
   "id": "004f2829",
   "metadata": {},
   "outputs": [
    {
     "data": {
      "text/plain": [
       "LinearRegression()"
      ]
     },
     "execution_count": 22,
     "metadata": {},
     "output_type": "execute_result"
    }
   ],
   "source": [
    "MLRModel= LR()\n",
    "MLRModel.fit(X1,Y1)"
   ]
  },
  {
   "cell_type": "code",
   "execution_count": 23,
   "id": "647ae969",
   "metadata": {},
   "outputs": [],
   "source": [
    "y1=MLRModel.predict(X1)"
   ]
  },
  {
   "cell_type": "code",
   "execution_count": 24,
   "id": "3b7b8f85",
   "metadata": {},
   "outputs": [
    {
     "name": "stdout",
     "output_type": "stream",
     "text": [
      "Mean Squared Error= 3595939.186252172 \n",
      "Mean Absolute Error= 1486.1874859297684 \n",
      "R2 Score= 0.1066566904762315\n"
     ]
    }
   ],
   "source": [
    "MSE1=mean_squared_error(Y1,y1)\n",
    "MAE1=mean_absolute_error(Y1,y1)\n",
    "R21=r2_score(Y1,y1)\n",
    "print(f\"Mean Squared Error= {MSE1} \\nMean Absolute Error= {MAE1} \\nR2 Score= {R21}\")"
   ]
  },
  {
   "cell_type": "code",
   "execution_count": 25,
   "id": "53cb4828",
   "metadata": {},
   "outputs": [],
   "source": [
    "x_surf,y_surf = np.meshgrid(np.linspace(df2['Engine Size'].min(),(df2['Engine Size']).max(),100),np.linspace(df2['Wheel Base'].min(),(df2['Wheel Base']).max(),100))"
   ]
  },
  {
   "cell_type": "code",
   "execution_count": 26,
   "id": "9f996439",
   "metadata": {},
   "outputs": [
    {
     "data": {
      "text/plain": [
       "array([[0.88829842, 0.88829842, 0.88829842, ..., 0.88829842, 0.88829842,\n",
       "        0.88829842],\n",
       "       [0.91156382, 0.91156382, 0.91156382, ..., 0.91156382, 0.91156382,\n",
       "        0.91156382],\n",
       "       [0.93482921, 0.93482921, 0.93482921, ..., 0.93482921, 0.93482921,\n",
       "        0.93482921],\n",
       "       ...,\n",
       "       [3.1450416 , 3.1450416 , 3.1450416 , ..., 3.1450416 , 3.1450416 ,\n",
       "        3.1450416 ],\n",
       "       [3.16830699, 3.16830699, 3.16830699, ..., 3.16830699, 3.16830699,\n",
       "        3.16830699],\n",
       "       [3.19157239, 3.19157239, 3.19157239, ..., 3.19157239, 3.19157239,\n",
       "        3.19157239]])"
      ]
     },
     "execution_count": 26,
     "metadata": {},
     "output_type": "execute_result"
    }
   ],
   "source": [
    "y_surf"
   ]
  },
  {
   "cell_type": "code",
   "execution_count": 27,
   "id": "5973f056",
   "metadata": {},
   "outputs": [
    {
     "data": {
      "text/plain": [
       "array([[1.72350509, 1.74786239, 1.77221968, ..., 4.08616272, 4.11052002,\n",
       "        4.13487731],\n",
       "       [1.72350509, 1.74786239, 1.77221968, ..., 4.08616272, 4.11052002,\n",
       "        4.13487731],\n",
       "       [1.72350509, 1.74786239, 1.77221968, ..., 4.08616272, 4.11052002,\n",
       "        4.13487731],\n",
       "       ...,\n",
       "       [1.72350509, 1.74786239, 1.77221968, ..., 4.08616272, 4.11052002,\n",
       "        4.13487731],\n",
       "       [1.72350509, 1.74786239, 1.77221968, ..., 4.08616272, 4.11052002,\n",
       "        4.13487731],\n",
       "       [1.72350509, 1.74786239, 1.77221968, ..., 4.08616272, 4.11052002,\n",
       "        4.13487731]])"
      ]
     },
     "execution_count": 27,
     "metadata": {},
     "output_type": "execute_result"
    }
   ],
   "source": [
    "x_surf"
   ]
  },
  {
   "cell_type": "code",
   "execution_count": 28,
   "id": "c5305e69",
   "metadata": {},
   "outputs": [
    {
     "data": {
      "text/plain": [
       "array([[1.72350509, 0.88829842],\n",
       "       [1.74786239, 0.88829842],\n",
       "       [1.77221968, 0.88829842],\n",
       "       ...,\n",
       "       [4.08616272, 3.19157239],\n",
       "       [4.11052002, 3.19157239],\n",
       "       [4.13487731, 3.19157239]])"
      ]
     },
     "execution_count": 28,
     "metadata": {},
     "output_type": "execute_result"
    }
   ],
   "source": [
    "xy_surf=np.c_[x_surf.ravel(),y_surf.ravel()]\n",
    "xy_surf"
   ]
  },
  {
   "cell_type": "code",
   "execution_count": 33,
   "id": "c05d6b2b",
   "metadata": {},
   "outputs": [
    {
     "name": "stderr",
     "output_type": "stream",
     "text": [
      "D:\\Users\\student\\anaconda3\\lib\\site-packages\\sklearn\\base.py:450: UserWarning: X does not have valid feature names, but LinearRegression was fitted with feature names\n",
      "  warnings.warn(\n"
     ]
    }
   ],
   "source": [
    "z_surf=MLRModel.predict(xy_surf).reshape(x_surf.shape)"
   ]
  },
  {
   "cell_type": "code",
   "execution_count": 34,
   "id": "678641b6",
   "metadata": {},
   "outputs": [
    {
     "data": {
      "text/plain": [
       "array([[2051.69064242, 2082.55780148, 2113.42496054, ..., 5045.80507147,\n",
       "        5076.67223053, 5107.53938959],\n",
       "       [2055.81195302, 2086.67911209, 2117.54627115, ..., 5049.92638208,\n",
       "        5080.79354114, 5111.6607002 ],\n",
       "       [2059.93326363, 2090.80042269, 2121.66758175, ..., 5054.04769268,\n",
       "        5084.91485174, 5115.78201081],\n",
       "       ...,\n",
       "       [2451.45777114, 2482.32493021, 2513.19208927, ..., 5445.57220019,\n",
       "        5476.43935926, 5507.30651832],\n",
       "       [2455.57908175, 2486.44624081, 2517.31339987, ..., 5449.6935108 ,\n",
       "        5480.56066986, 5511.42782893],\n",
       "       [2459.70039236, 2490.56755142, 2521.43471048, ..., 5453.81482141,\n",
       "        5484.68198047, 5515.54913953]])"
      ]
     },
     "execution_count": 34,
     "metadata": {},
     "output_type": "execute_result"
    }
   ],
   "source": [
    "z_surf"
   ]
  },
  {
   "cell_type": "code",
   "execution_count": 35,
   "id": "496082c3",
   "metadata": {},
   "outputs": [
    {
     "ename": "AttributeError",
     "evalue": "'Poly3DCollection' object has no attribute '_facecolors2d'",
     "output_type": "error",
     "traceback": [
      "\u001b[1;31m---------------------------------------------------------------------------\u001b[0m",
      "\u001b[1;31mAttributeError\u001b[0m                            Traceback (most recent call last)",
      "Input \u001b[1;32mIn [35]\u001b[0m, in \u001b[0;36m<cell line: 9>\u001b[1;34m()\u001b[0m\n\u001b[0;32m      7\u001b[0m ax\u001b[38;5;241m.\u001b[39mset_xlabel(\u001b[38;5;124m\"\u001b[39m\u001b[38;5;124mPrice\u001b[39m\u001b[38;5;124m\"\u001b[39m)\n\u001b[0;32m      8\u001b[0m ax\u001b[38;5;241m.\u001b[39mset_title(\u001b[38;5;124m\"\u001b[39m\u001b[38;5;124mEngine Size and Wheel Base VS Price\u001b[39m\u001b[38;5;124m\"\u001b[39m)\n\u001b[1;32m----> 9\u001b[0m \u001b[43mplt\u001b[49m\u001b[38;5;241;43m.\u001b[39;49m\u001b[43mlegend\u001b[49m\u001b[43m(\u001b[49m\u001b[43m)\u001b[49m\n\u001b[0;32m     10\u001b[0m plt\u001b[38;5;241m.\u001b[39mshow()\n",
      "File \u001b[1;32mD:\\Users\\student\\anaconda3\\lib\\site-packages\\matplotlib\\pyplot.py:2655\u001b[0m, in \u001b[0;36mlegend\u001b[1;34m(*args, **kwargs)\u001b[0m\n\u001b[0;32m   2653\u001b[0m \u001b[38;5;129m@_copy_docstring_and_deprecators\u001b[39m(Axes\u001b[38;5;241m.\u001b[39mlegend)\n\u001b[0;32m   2654\u001b[0m \u001b[38;5;28;01mdef\u001b[39;00m \u001b[38;5;21mlegend\u001b[39m(\u001b[38;5;241m*\u001b[39margs, \u001b[38;5;241m*\u001b[39m\u001b[38;5;241m*\u001b[39mkwargs):\n\u001b[1;32m-> 2655\u001b[0m     \u001b[38;5;28;01mreturn\u001b[39;00m gca()\u001b[38;5;241m.\u001b[39mlegend(\u001b[38;5;241m*\u001b[39margs, \u001b[38;5;241m*\u001b[39m\u001b[38;5;241m*\u001b[39mkwargs)\n",
      "File \u001b[1;32mD:\\Users\\student\\anaconda3\\lib\\site-packages\\matplotlib\\axes\\_axes.py:305\u001b[0m, in \u001b[0;36mAxes.legend\u001b[1;34m(self, *args, **kwargs)\u001b[0m\n\u001b[0;32m    303\u001b[0m \u001b[38;5;28;01mif\u001b[39;00m \u001b[38;5;28mlen\u001b[39m(extra_args):\n\u001b[0;32m    304\u001b[0m     \u001b[38;5;28;01mraise\u001b[39;00m \u001b[38;5;167;01mTypeError\u001b[39;00m(\u001b[38;5;124m'\u001b[39m\u001b[38;5;124mlegend only accepts two non-keyword arguments\u001b[39m\u001b[38;5;124m'\u001b[39m)\n\u001b[1;32m--> 305\u001b[0m \u001b[38;5;28mself\u001b[39m\u001b[38;5;241m.\u001b[39mlegend_ \u001b[38;5;241m=\u001b[39m mlegend\u001b[38;5;241m.\u001b[39mLegend(\u001b[38;5;28mself\u001b[39m, handles, labels, \u001b[38;5;241m*\u001b[39m\u001b[38;5;241m*\u001b[39mkwargs)\n\u001b[0;32m    306\u001b[0m \u001b[38;5;28mself\u001b[39m\u001b[38;5;241m.\u001b[39mlegend_\u001b[38;5;241m.\u001b[39m_remove_method \u001b[38;5;241m=\u001b[39m \u001b[38;5;28mself\u001b[39m\u001b[38;5;241m.\u001b[39m_remove_legend\n\u001b[0;32m    307\u001b[0m \u001b[38;5;28;01mreturn\u001b[39;00m \u001b[38;5;28mself\u001b[39m\u001b[38;5;241m.\u001b[39mlegend_\n",
      "File \u001b[1;32mD:\\Users\\student\\anaconda3\\lib\\site-packages\\matplotlib\\legend.py:499\u001b[0m, in \u001b[0;36mLegend.__init__\u001b[1;34m(self, parent, handles, labels, loc, numpoints, markerscale, markerfirst, scatterpoints, scatteryoffsets, prop, fontsize, labelcolor, borderpad, labelspacing, handlelength, handleheight, handletextpad, borderaxespad, columnspacing, ncol, mode, fancybox, shadow, title, title_fontsize, framealpha, edgecolor, facecolor, bbox_to_anchor, bbox_transform, frameon, handler_map, title_fontproperties)\u001b[0m\n\u001b[0;32m    496\u001b[0m \u001b[38;5;28mself\u001b[39m\u001b[38;5;241m.\u001b[39m_set_artist_props(\u001b[38;5;28mself\u001b[39m\u001b[38;5;241m.\u001b[39mlegendPatch)\n\u001b[0;32m    498\u001b[0m \u001b[38;5;66;03m# init with null renderer\u001b[39;00m\n\u001b[1;32m--> 499\u001b[0m \u001b[38;5;28;43mself\u001b[39;49m\u001b[38;5;241;43m.\u001b[39;49m\u001b[43m_init_legend_box\u001b[49m\u001b[43m(\u001b[49m\u001b[43mhandles\u001b[49m\u001b[43m,\u001b[49m\u001b[43m \u001b[49m\u001b[43mlabels\u001b[49m\u001b[43m,\u001b[49m\u001b[43m \u001b[49m\u001b[43mmarkerfirst\u001b[49m\u001b[43m)\u001b[49m\n\u001b[0;32m    501\u001b[0m tmp \u001b[38;5;241m=\u001b[39m \u001b[38;5;28mself\u001b[39m\u001b[38;5;241m.\u001b[39m_loc_used_default\n\u001b[0;32m    502\u001b[0m \u001b[38;5;28mself\u001b[39m\u001b[38;5;241m.\u001b[39m_set_loc(loc)\n",
      "File \u001b[1;32mD:\\Users\\student\\anaconda3\\lib\\site-packages\\matplotlib\\legend.py:780\u001b[0m, in \u001b[0;36mLegend._init_legend_box\u001b[1;34m(self, handles, labels, markerfirst)\u001b[0m\n\u001b[0;32m    777\u001b[0m         text_list\u001b[38;5;241m.\u001b[39mappend(textbox\u001b[38;5;241m.\u001b[39m_text)\n\u001b[0;32m    778\u001b[0m         \u001b[38;5;66;03m# Create the artist for the legend which represents the\u001b[39;00m\n\u001b[0;32m    779\u001b[0m         \u001b[38;5;66;03m# original artist/handle.\u001b[39;00m\n\u001b[1;32m--> 780\u001b[0m         handle_list\u001b[38;5;241m.\u001b[39mappend(\u001b[43mhandler\u001b[49m\u001b[38;5;241;43m.\u001b[39;49m\u001b[43mlegend_artist\u001b[49m\u001b[43m(\u001b[49m\u001b[38;5;28;43mself\u001b[39;49m\u001b[43m,\u001b[49m\u001b[43m \u001b[49m\u001b[43morig_handle\u001b[49m\u001b[43m,\u001b[49m\n\u001b[0;32m    781\u001b[0m \u001b[43m                                                 \u001b[49m\u001b[43mfontsize\u001b[49m\u001b[43m,\u001b[49m\u001b[43m \u001b[49m\u001b[43mhandlebox\u001b[49m\u001b[43m)\u001b[49m)\n\u001b[0;32m    782\u001b[0m         handles_and_labels\u001b[38;5;241m.\u001b[39mappend((handlebox, textbox))\n\u001b[0;32m    784\u001b[0m \u001b[38;5;28;01mif\u001b[39;00m handles_and_labels:\n\u001b[0;32m    785\u001b[0m     \u001b[38;5;66;03m# We calculate number of rows in each column. The first\u001b[39;00m\n\u001b[0;32m    786\u001b[0m     \u001b[38;5;66;03m# (num_largecol) columns will have (nrows+1) rows, and remaining\u001b[39;00m\n\u001b[0;32m    787\u001b[0m     \u001b[38;5;66;03m# (num_smallcol) columns will have (nrows) rows.\u001b[39;00m\n",
      "File \u001b[1;32mD:\\Users\\student\\anaconda3\\lib\\site-packages\\matplotlib\\legend_handler.py:119\u001b[0m, in \u001b[0;36mHandlerBase.legend_artist\u001b[1;34m(self, legend, orig_handle, fontsize, handlebox)\u001b[0m\n\u001b[0;32m     95\u001b[0m \u001b[38;5;124;03m\"\"\"\u001b[39;00m\n\u001b[0;32m     96\u001b[0m \u001b[38;5;124;03mReturn the artist that this HandlerBase generates for the given\u001b[39;00m\n\u001b[0;32m     97\u001b[0m \u001b[38;5;124;03moriginal artist/handle.\u001b[39;00m\n\u001b[1;32m   (...)\u001b[0m\n\u001b[0;32m    112\u001b[0m \n\u001b[0;32m    113\u001b[0m \u001b[38;5;124;03m\"\"\"\u001b[39;00m\n\u001b[0;32m    114\u001b[0m xdescent, ydescent, width, height \u001b[38;5;241m=\u001b[39m \u001b[38;5;28mself\u001b[39m\u001b[38;5;241m.\u001b[39madjust_drawing_area(\n\u001b[0;32m    115\u001b[0m          legend, orig_handle,\n\u001b[0;32m    116\u001b[0m          handlebox\u001b[38;5;241m.\u001b[39mxdescent, handlebox\u001b[38;5;241m.\u001b[39mydescent,\n\u001b[0;32m    117\u001b[0m          handlebox\u001b[38;5;241m.\u001b[39mwidth, handlebox\u001b[38;5;241m.\u001b[39mheight,\n\u001b[0;32m    118\u001b[0m          fontsize)\n\u001b[1;32m--> 119\u001b[0m artists \u001b[38;5;241m=\u001b[39m \u001b[38;5;28;43mself\u001b[39;49m\u001b[38;5;241;43m.\u001b[39;49m\u001b[43mcreate_artists\u001b[49m\u001b[43m(\u001b[49m\u001b[43mlegend\u001b[49m\u001b[43m,\u001b[49m\u001b[43m \u001b[49m\u001b[43morig_handle\u001b[49m\u001b[43m,\u001b[49m\n\u001b[0;32m    120\u001b[0m \u001b[43m                              \u001b[49m\u001b[43mxdescent\u001b[49m\u001b[43m,\u001b[49m\u001b[43m \u001b[49m\u001b[43mydescent\u001b[49m\u001b[43m,\u001b[49m\u001b[43m \u001b[49m\u001b[43mwidth\u001b[49m\u001b[43m,\u001b[49m\u001b[43m \u001b[49m\u001b[43mheight\u001b[49m\u001b[43m,\u001b[49m\n\u001b[0;32m    121\u001b[0m \u001b[43m                              \u001b[49m\u001b[43mfontsize\u001b[49m\u001b[43m,\u001b[49m\u001b[43m \u001b[49m\u001b[43mhandlebox\u001b[49m\u001b[38;5;241;43m.\u001b[39;49m\u001b[43mget_transform\u001b[49m\u001b[43m(\u001b[49m\u001b[43m)\u001b[49m\u001b[43m)\u001b[49m\n\u001b[0;32m    123\u001b[0m \u001b[38;5;28;01mif\u001b[39;00m \u001b[38;5;28misinstance\u001b[39m(artists, _Line2DHandleList):\n\u001b[0;32m    124\u001b[0m     artists \u001b[38;5;241m=\u001b[39m [artists[\u001b[38;5;241m0\u001b[39m]]\n",
      "File \u001b[1;32mD:\\Users\\student\\anaconda3\\lib\\site-packages\\matplotlib\\legend_handler.py:833\u001b[0m, in \u001b[0;36mHandlerPolyCollection.create_artists\u001b[1;34m(self, legend, orig_handle, xdescent, ydescent, width, height, fontsize, trans)\u001b[0m\n\u001b[0;32m    829\u001b[0m \u001b[38;5;28;01mdef\u001b[39;00m \u001b[38;5;21mcreate_artists\u001b[39m(\u001b[38;5;28mself\u001b[39m, legend, orig_handle,\n\u001b[0;32m    830\u001b[0m                    xdescent, ydescent, width, height, fontsize, trans):\n\u001b[0;32m    831\u001b[0m     p \u001b[38;5;241m=\u001b[39m Rectangle(xy\u001b[38;5;241m=\u001b[39m(\u001b[38;5;241m-\u001b[39mxdescent, \u001b[38;5;241m-\u001b[39mydescent),\n\u001b[0;32m    832\u001b[0m                   width\u001b[38;5;241m=\u001b[39mwidth, height\u001b[38;5;241m=\u001b[39mheight)\n\u001b[1;32m--> 833\u001b[0m     \u001b[38;5;28;43mself\u001b[39;49m\u001b[38;5;241;43m.\u001b[39;49m\u001b[43mupdate_prop\u001b[49m\u001b[43m(\u001b[49m\u001b[43mp\u001b[49m\u001b[43m,\u001b[49m\u001b[43m \u001b[49m\u001b[43morig_handle\u001b[49m\u001b[43m,\u001b[49m\u001b[43m \u001b[49m\u001b[43mlegend\u001b[49m\u001b[43m)\u001b[49m\n\u001b[0;32m    834\u001b[0m     p\u001b[38;5;241m.\u001b[39mset_transform(trans)\n\u001b[0;32m    835\u001b[0m     \u001b[38;5;28;01mreturn\u001b[39;00m [p]\n",
      "File \u001b[1;32mD:\\Users\\student\\anaconda3\\lib\\site-packages\\matplotlib\\legend_handler.py:78\u001b[0m, in \u001b[0;36mHandlerBase.update_prop\u001b[1;34m(self, legend_handle, orig_handle, legend)\u001b[0m\n\u001b[0;32m     76\u001b[0m \u001b[38;5;28;01mdef\u001b[39;00m \u001b[38;5;21mupdate_prop\u001b[39m(\u001b[38;5;28mself\u001b[39m, legend_handle, orig_handle, legend):\n\u001b[1;32m---> 78\u001b[0m     \u001b[38;5;28;43mself\u001b[39;49m\u001b[38;5;241;43m.\u001b[39;49m\u001b[43m_update_prop\u001b[49m\u001b[43m(\u001b[49m\u001b[43mlegend_handle\u001b[49m\u001b[43m,\u001b[49m\u001b[43m \u001b[49m\u001b[43morig_handle\u001b[49m\u001b[43m)\u001b[49m\n\u001b[0;32m     80\u001b[0m     legend\u001b[38;5;241m.\u001b[39m_set_artist_props(legend_handle)\n\u001b[0;32m     81\u001b[0m     legend_handle\u001b[38;5;241m.\u001b[39mset_clip_box(\u001b[38;5;28;01mNone\u001b[39;00m)\n",
      "File \u001b[1;32mD:\\Users\\student\\anaconda3\\lib\\site-packages\\matplotlib\\legend_handler.py:816\u001b[0m, in \u001b[0;36mHandlerPolyCollection._update_prop\u001b[1;34m(self, legend_handle, orig_handle)\u001b[0m\n\u001b[0;32m    812\u001b[0m         \u001b[38;5;28;01mreturn\u001b[39;00m \u001b[38;5;28;01mNone\u001b[39;00m\n\u001b[0;32m    814\u001b[0m \u001b[38;5;66;03m# orig_handle is a PolyCollection and legend_handle is a Patch.\u001b[39;00m\n\u001b[0;32m    815\u001b[0m \u001b[38;5;66;03m# Directly set Patch color attributes (must be RGBA tuples).\u001b[39;00m\n\u001b[1;32m--> 816\u001b[0m legend_handle\u001b[38;5;241m.\u001b[39m_facecolor \u001b[38;5;241m=\u001b[39m first_color(\u001b[43morig_handle\u001b[49m\u001b[38;5;241;43m.\u001b[39;49m\u001b[43mget_facecolor\u001b[49m\u001b[43m(\u001b[49m\u001b[43m)\u001b[49m)\n\u001b[0;32m    817\u001b[0m legend_handle\u001b[38;5;241m.\u001b[39m_edgecolor \u001b[38;5;241m=\u001b[39m first_color(orig_handle\u001b[38;5;241m.\u001b[39mget_edgecolor())\n\u001b[0;32m    818\u001b[0m legend_handle\u001b[38;5;241m.\u001b[39m_fill \u001b[38;5;241m=\u001b[39m orig_handle\u001b[38;5;241m.\u001b[39mget_fill()\n",
      "File \u001b[1;32mD:\\Users\\student\\anaconda3\\lib\\site-packages\\mpl_toolkits\\mplot3d\\art3d.py:885\u001b[0m, in \u001b[0;36mPoly3DCollection.get_facecolor\u001b[1;34m(self)\u001b[0m\n\u001b[0;32m    884\u001b[0m \u001b[38;5;28;01mdef\u001b[39;00m \u001b[38;5;21mget_facecolor\u001b[39m(\u001b[38;5;28mself\u001b[39m):\n\u001b[1;32m--> 885\u001b[0m     \u001b[38;5;28;01mreturn\u001b[39;00m \u001b[38;5;28;43mself\u001b[39;49m\u001b[38;5;241;43m.\u001b[39;49m\u001b[43m_facecolors2d\u001b[49m\n",
      "\u001b[1;31mAttributeError\u001b[0m: 'Poly3DCollection' object has no attribute '_facecolors2d'"
     ]
    },
    {
     "data": {
      "image/png": "[encoded data removed]",
      "text/plain": [
       "<Figure size 432x288 with 1 Axes>"
      ]
     },
     "metadata": {
      "needs_background": "light"
     },
     "output_type": "display_data"
    }
   ],
   "source": [
    "fig=plt.figure()\n",
    "ax = fig.add_subplot(111,projection = '3d')\n",
    "ax.scatter(df2[\"Engine Size\"], df2[\"Wheel Base\"], df2[\"Amount\"], color='blue', label=\"Actual data\")\n",
    "ax.plot_surface(x_surf,y_surf,z_surf,color='red', label = \"Predicted Value\", alpha=0.5)\n",
    "ax.set_xlabel(\"Engine Size\")\n",
    "ax.set_xlabel(\"Wheel Base\")\n",
    "ax.set_xlabel(\"Price\")\n",
    "ax.set_title(\"Engine Size and Wheel Base VS Price\")\n",
    "plt.legend()\n",
    "plt.show()"
   ]
  },
  {
   "cell_type": "code",
   "execution_count": null,
   "id": "7a89d28a",
   "metadata": {},
   "outputs": [],
   "source": []
  }
 ],
 "metadata": {
  "kernelspec": {
   "display_name": "Python 3 (ipykernel)",
   "language": "python",
   "name": "python3"
  },
  "language_info": {
   "codemirror_mode": {
    "name": "ipython",
    "version": 3
   },
   "file_extension": ".py",
   "mimetype": "text/x-python",
   "name": "python",
   "nbconvert_exporter": "python",
   "pygments_lexer": "ipython3",
   "version": "3.9.12"
  }
 },
 "nbformat": 4,
 "nbformat_minor": 5
}
