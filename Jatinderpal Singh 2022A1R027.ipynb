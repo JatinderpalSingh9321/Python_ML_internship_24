{
 "cells": [
  {
   "cell_type": "code",
   "execution_count": 94,
   "id": "61a7c370",
   "metadata": {},
   "outputs": [
    {
     "name": "stdout",
     "output_type": "stream",
     "text": [
      "        * \n",
      "      * * \n",
      "    * * * \n",
      "  * * * * \n",
      "* * * * * \n"
     ]
    }
   ],
   "source": [
    "rows=5\n",
    "n=2*rows-2\n",
    "for i in range(rows):\n",
    "    for j in range(n):\n",
    "        print(end=\" \")\n",
    "    n = n-2\n",
    "    for j in range(i+1):\n",
    "        print(\"*\",end=\" \")\n",
    "    print()\n",
    "       "
   ]
  },
  {
   "cell_type": "code",
   "execution_count": 132,
   "id": "ed2f08be",
   "metadata": {},
   "outputs": [
    {
     "name": "stdout",
     "output_type": "stream",
     "text": [
      "Enter first number:10\n",
      "Enter second number:a\n",
      "Invalid Value\n",
      "Enter second number:5\n",
      "2.0\n"
     ]
    }
   ],
   "source": [
    "def cal(n):\n",
    "    while True:\n",
    "        try:\n",
    "            return int(input (n))\n",
    "        except ValueError:\n",
    "            print(\"Invalid Value\")\n",
    "while(1):\n",
    "        try:\n",
    "            n1=cal (\"Enter first number:\")\n",
    "            n2=cal (\"Enter second number:\")\n",
    "            div=n1/n2\n",
    "            print(div)\n",
    "            break\n",
    "        except ZeroDivisionError :\n",
    "            print(\"Second number cannot be zero\") "
   ]
  },
  {
   "cell_type": "code",
   "execution_count": 118,
   "id": "c64c9b7f",
   "metadata": {},
   "outputs": [],
   "source": []
  },
  {
   "cell_type": "code",
   "execution_count": 83,
   "id": "e3f0a4ed",
   "metadata": {},
   "outputs": [],
   "source": [
    "   \n",
    "    "
   ]
  },
  {
   "cell_type": "code",
   "execution_count": null,
   "id": "8aca7609",
   "metadata": {},
   "outputs": [],
   "source": []
  },
  {
   "cell_type": "code",
   "execution_count": null,
   "id": "4d75a0f9",
   "metadata": {},
   "outputs": [],
   "source": []
  }
 ],
 "metadata": {
  "kernelspec": {
   "display_name": "Python 3 (ipykernel)",
   "language": "python",
   "name": "python3"
  },
  "language_info": {
   "codemirror_mode": {
    "name": "ipython",
    "version": 3
   },
   "file_extension": ".py",
   "mimetype": "text/x-python",
   "name": "python",
   "nbconvert_exporter": "python",
   "pygments_lexer": "ipython3",
   "version": "3.9.12"
  }
 },
 "nbformat": 4,
 "nbformat_minor": 5
}
